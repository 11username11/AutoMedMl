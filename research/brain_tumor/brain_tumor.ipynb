{
 "cells": [
  {
   "cell_type": "code",
   "execution_count": 1,
   "id": "3be1b7f2-16cc-4ab4-b9be-2601b4b39027",
   "metadata": {},
   "outputs": [],
   "source": [
    "import torchvision\n",
    "data_path = fr\"Brain Tumor/BrainTumorYolov11/\""
   ]
  },
  {
   "cell_type": "code",
   "execution_count": null,
   "id": "10340f23-48d5-4c1c-b11c-4651f2519436",
   "metadata": {},
   "outputs": [],
   "source": []
  }
 ],
 "metadata": {
  "kernelspec": {
   "display_name": "Python 3 (ipykernel)",
   "language": "python",
   "name": "python3"
  },
  "language_info": {
   "codemirror_mode": {
    "name": "ipython",
    "version": 3
   },
   "file_extension": ".py",
   "mimetype": "text/x-python",
   "name": "python",
   "nbconvert_exporter": "python",
   "pygments_lexer": "ipython3",
   "version": "3.12.7"
  }
 },
 "nbformat": 4,
 "nbformat_minor": 5
}
